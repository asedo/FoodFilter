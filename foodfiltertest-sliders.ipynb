{
 "cells": [
  {
   "cell_type": "raw",
   "metadata": {
    "collapsed": false
   },
   "source": [
    "import numpy as np\n",
    "import pandas as pd\n",
    "import matplotlib.pyplot as plt\n",
    "import random\n",
    "from bokeh.layouts import row, widgetbox\n",
    "from bokeh.models import CustomJS, Slider, HoverTool, BoxAnnotation\n",
    "from bokeh.plotting import figure, output_file, show, ColumnDataSource\n",
    "from collections import OrderedDict\n",
    "\n",
    "#from plotly.offline import download_plotlyjs, init_notebook_mode, plot\n",
    "#from plotly.graph_objs import *\n",
    "\n",
    "\n",
    "%matplotlib inline\n",
    "init_notebook_mode()"
   ]
  },
  {
   "cell_type": "code",
   "execution_count": 78,
   "metadata": {
    "collapsed": false
   },
   "outputs": [],
   "source": [
    "dffile = \"./Data/sr28abxl/ABBREV_FoodDatabase.xlsx\"\n",
    "dvfile = \"./Playdata.xlsx\"\n",
    "#df = pd.read_excel(file, sheetname = 'Sheet1', header = 0, index_col = 0, convert_float = True)\n",
    "#dv = pd.read_excel(file, sheetname = 'Sheet3', header = 0, index_col = 0, convert_float = True)\n",
    "df = pd.read_excel(dffile, sheetname = 'ABBREV', header = 0, convert_float = True)\n",
    "dv = pd.read_excel(dvfile, sheetname = 'Sheet3', header = 0, index_col = 0, convert_float = True)\n",
    "df.columns = df.dtypes.index.str.replace(\"(\", \"\").str.replace(\")\", \"\").str.replace(\"µ\", \"p\")\n",
    "\n",
    "Searchstring = \"SHAKE|BEVERAGES|LIQUOR|FORMULA|BABY|SALTED|UNSWTND|PDR|FREEZE|GENERAL MILLS|FRUIT-FLAV|CEREALS|SNACKFO|OIL,|LARD|CANDIES|YEAST|SNACKS|BACKFAT|SHORTENING|COOKIES|BASIL,DRIED|SYRUP\"\n",
    "df = df[df.Shrt_Desc.str.contains(Searchstring) == False]\n",
    "#dffout = dff[dff.Shrt_Desc.str.contains(Searchstring) == True]\n",
    "\n",
    "#foodgroups = ['Bread','Candy', 'Dessert','Dressing','Fruit','Meat','Pasta','Pizza','Spread','Vegetable','fruit'}\n",
    "#  This file can be used to calculate nutrient values for food portions from the\n",
    "#values provided per 100 g of food. The following formula is used to calculate the nutrient\n",
    "#content per household measure:\n",
    "#N = (V*W)/100\n",
    "#where:\n",
    "#N = nutrient value per household measure,\n",
    "#V = nutrient value per 100 g (Nutr_Val in the Nutrient Data file), and\n",
    "#W = g weight of portion (Gm_Wgt in the Weight file).\n",
    "\n",
    "df['protein_rda'] = df['Protein_g']/dv['DV']['Protein'] * (df['GmWt_1']/100)\n",
    "df['Calories_rda'] = df['Energ_Kcal']/dv['DV']['Caloriesm'] * (df['GmWt_1']/100)\n",
    "df['Calories'] = df['Energ_Kcal'] * (df['GmWt_1']/100)\n",
    "#df['foodtext'] = df.Shrt_Desc \n",
    "df['Totfat_rda'] = df['Lipid_Tot_g']/dv['DV']['Total Fat']  * (df['GmWt_1']/100)\n",
    "df['Satfat_rda'] = df['FA_Sat_g']/dv['DV']['Saturated Fat']  * (df['GmWt_1']/100)\n",
    "df['Colesterol_rda'] = df['Cholestrl_mg']/dv['DV']['Cholesterol']  * (df['GmWt_1']/100)\n",
    "df['Potassium_rda'] = df['Potassium_mg']/dv['DV']['Potassium'] * (df['GmWt_1']/100)\n",
    "df['Sodium_rda'] = df['Sodium_mg']/dv['DV']['Sodium']  * (df['GmWt_1']/100)\n",
    "#df['TotCarbs_rda'] = df['Lipid_Tot_g']/dv['DV']['Total Carbohydrate']  * (df['GmWt_1']/100)\n",
    "df['Dietfiber_rda'] = df['Fiber_TD_g']/dv['DV']['Dietary Fiber']  * (df['GmWt_1']/100)\n",
    "df['VitaminA_rda'] = df['Vit_A_IU']/dv['DV']['Vitamin A']  * (df['GmWt_1']/100)\n",
    "df['VitaminC_rda'] = df['Vit_C_mg']/dv['DV']['Vitamin C'] * (df['GmWt_1']/100)\n",
    "df['Calcium_rda'] = df['Calcium_mg']/dv['DV']['Calcium']  * (df['GmWt_1']/100)\n",
    "df['Iron_rda'] = df['Iron_mg']/dv['DV']['Iron']  * (df['GmWt_1']/100)\n",
    "df['VitaminD_rda'] = df['Vit_D_pg']/dv['DV']['Vitamin D']  * (df['GmWt_1']/100)\n",
    "df['VitaminE_rda'] = df['Vit_E_mg']/dv['DV']['Vitamin E']  * (df['GmWt_1']/100)\n",
    "df['VitaminK_rda'] = df['Vit_K_pg']/dv['DV']['Vitamin K']  * (df['GmWt_1']/100)\n",
    "df['Thiamin_rda'] = df['Thiamin_mg']/dv['DV']['Thiamin']  * (df['GmWt_1']/100)\n",
    "df['Riboflavin_rda'] = df['Riboflavin_mg']/dv['DV']['Riboflavin']  * (df['GmWt_1']/100)\n",
    "df['Niacin_rda'] = df['Niacin_mg']/dv['DV']['Niacin']  * (df['GmWt_1']/100)\n",
    "df['VitaminB6_rda'] = df['Vit_B6_mg']/dv['DV']['Vitamin B6']  * (df['GmWt_1']/100)\n",
    "df['Folate_rda'] = df['Folate_Tot_pg']/dv['DV']['Folate']  * (df['GmWt_1']/100)\n",
    "df['VitaminB12_rda'] = df['Vit_B12_pg']/dv['DV']['Vitamin B12']  * (df['GmWt_1']/100)\n",
    "df['PantothenicAcid_rda'] = df['Panto_Acid_mg']/dv['DV']['Pantothenic acid']  * (df['GmWt_1']/100)\n",
    "df['Phosphorus_rda'] = df['Phosphorus_mg']/dv['DV']['Phosphorus']  * (df['GmWt_1']/100)\n",
    "df['Magnesium_rda'] = df['Magnesium_mg']/dv['DV']['Magnesium']  * (df['GmWt_1']/100)\n",
    "df['Zinc_rda'] = df['Zinc_mg']/dv['DV']['Zinc']  * (df['GmWt_1']/100)\n",
    "df['Selenium_rda'] = df['Selenium_pg']/dv['DV']['Selenium']  * (df['GmWt_1']/100)\n",
    "df['Copper_rda'] = df['Copper_mg']/dv['DV']['Copper']  * (df['GmWt_1']/100)\n",
    "df['Manganese_rda'] = df['Manganese_mg']/dv['DV']['Manganese']  * (df['GmWt_1']/100)\n",
    "df['Molybdenum_rda'] = df['Energ_Kcal']/dv['DV']['Molybdenum']  * (df['GmWt_1']/100)\n",
    "##df[\"Quantity\"] = df[\"GmWt_1\"].map(str) + \" @ \" + df[\"GmWt_Desc1\"] \n",
    "df[\"Quantity\"] = df[\"GmWt_Desc1\"] \n",
    " \n",
    "df['Healthy'] = df['protein_rda']+ df['Dietfiber_rda']+ df['Thiamin_rda'] + df['Riboflavin_rda'] + df['Niacin_rda']  + df['PantothenicAcid_rda'] + df['Phosphorus_rda'] + df['Magnesium_rda'] + df['Selenium_rda'] + df['Copper_rda'] + df['Manganese_rda'] + df['Molybdenum_rda']  + (df['VitaminA_rda'] + df['VitaminB6_rda'] + df['VitaminC_rda'] + df['Calcium_rda'] + df['Iron_rda'] + df['VitaminD_rda'] + df['VitaminE_rda'] + df['VitaminK_rda'] + df['Folate_rda'] + df['VitaminB12_rda'] + df['Zinc_rda'])*2 - (10*df['Sodium_rda']) \n",
    "\n",
    "\n",
    "#df['Calories_rda']+ df['Totfat_rda']+df['Satfat_rda']+df['Colesterol_rda'] +df['Sodium_rda'] +df['TotCarbs_rda']+\n",
    "\n",
    "#foodgrp_key= list(set(df['foodgroup']))\n",
    "#grp_val = list(map(int,range(len(foodgrp_key))))\n",
    "#grpdict = dict(zip(foodgrp_key,grp_val))\n",
    "#df.head()\n",
    "\n",
    "#Get rid of the NaNs\n",
    "dff = df[np.isfinite(df['Healthy'])]\n",
    "#FiFORMULAstrings in dffin and dFORMULA\n",
    "dffin = dff\n",
    "#Searchstring = \"SHAKE|BEVERAGES|LIQUOR|FORMULA|BABY|SALTED|UNSWTND|PDR|FREEZE|GENERAL MILLS|FRUIT-FLAV|CEREALS|SNACKFO|OIL,|LARD|CANDIES|YEAST|SNACKS|BACKFAT|SHORTENING|COOKIES|BASIL,DRIED|SYRUP\"\n",
    "#dffin = dff[dff.Shrt_Desc.str.contains(Searchstring) == False]\n",
    "#dffout = dff[dff.Shrt_Desc.str.contains(Searchstring) == True]\n",
    "\n",
    "#keep only the top 50 healthy items\n",
    "dffin = dffin.sort_values('Healthy', ascending=False)\n",
    "dffin = dffin.head(500)"
   ]
  },
  {
   "cell_type": "code",
   "execution_count": 80,
   "metadata": {
    "collapsed": false
   },
   "outputs": [],
   "source": [
    "\n",
    "## Modifying h to fit my whims\n",
    "Maxgoodcal = 400\n",
    "#dffin['Healthy'][dffin['Calories' > Maxgoodcal] = \n",
    "\n",
    "\n",
    "#x = np.linspace(0, 10, 500)\n",
    "x= dffin.Calories.values.tolist()\n",
    "h= dffin.Healthy.values.tolist()\n",
    "y= dffin.Healthy.values.tolist()\n",
    "n=dffin.Shrt_Desc.values.tolist()\n",
    "s=dffin.Sodium_mg.values.tolist()\n",
    "k=dffin.Vit_K_pg.values.tolist()\n",
    "phos=dffin.Phosphorus_mg.values.tolist()\n",
    "por=dffin.Quantity.values.tolist()\n",
    "pro=dffin.Protein_g.values.tolist()\n",
    "pot=dffin.Potassium_mg.values.tolist()\n",
    "ylim = max(h)+50\n",
    "source = ColumnDataSource(data=dict(x=x,y=y,n=n,s=s,h=h,pro=pro,phos=phos, por=por,k=k, pot=pot))\n",
    "\n",
    "dffin[dffin.Sodium_mg >35]\n",
    "\n",
    "TOOLS=\"resize,crosshair,pan,wheel_zoom,box_zoom,reset,tap,previewsave,box_select,poly_select,lasso_select,hover\"\n",
    "#plot = figure(y_range=(0,ylim),tools = TOOLS)\n",
    "plot = figure(y_range=(0,ylim),tools = TOOLS)\n",
    "plot.scatter('x', 'y', source=source, radius= dffin.Healthy ,line_color=None)\n",
    "\n",
    "callback = CustomJS(args=dict(source=source), code=\"\"\"\n",
    "    var data = source.data;\n",
    "    var S = salt.value;\n",
    "    var Prot = protein.value;\n",
    "    var Phos = phosphorus.value;\n",
    "    var K = vit_k.value;\n",
    "    var Pot = pot.value;\n",
    "    \n",
    "    h = data['h']\n",
    "    x = data['x']\n",
    "    y = data['y']\n",
    "    s = data['s']\n",
    "    k = data['k']\n",
    "    pot = data['pot']\n",
    "    pro = data['pro']\n",
    "    phos = data['phos']\n",
    "    por = data['por']\n",
    "    \n",
    "    for (i = 0; i < x.length; i++) {\n",
    "        y[i] =  h[i]-((s[i]-100)*S)- ((pro[i]- 10)*Prot *3) - ((phos[i]- 100)*Phos *2) - ((k[i] - 200)* K *1 ) - ((pot[i] - 200)* Pot *1 );\n",
    "    }\n",
    "    source.trigger('change');\n",
    "\"\"\")\n",
    "\n",
    "\n",
    "salt_slider = Slider(start=0, end=1, value=0, step=.005, title=\"Salt\", callback=callback)\n",
    "callback.args[\"salt\"] = salt_slider\n",
    "\n",
    "protein_slider = Slider(start=0, end=1, value=0, step=.005, title=\"Protein\", callback=callback)\n",
    "callback.args[\"protein\"] = protein_slider\n",
    "\n",
    "phos_slider = Slider(start=0, end=1, value=0, step=.005, title=\"Phosphorus\", callback=callback)\n",
    "callback.args[\"phosphorus\"] = phos_slider\n",
    "\n",
    "k_slider = Slider(start=0, end=1, value=0, step=.005, title=\"Vitamin K\", callback=callback)\n",
    "callback.args[\"vit_k\"] = k_slider\n",
    "\n",
    "pot_slider = Slider(start=0, end=1, value=0, step=.005, title=\"Potassium\", callback=callback)\n",
    "callback.args[\"pot\"] = pot_slider\n",
    "\n",
    "hover = plot.select(dict(type=HoverTool))\n",
    "hover.tooltips = OrderedDict([('Food', '@n'),('Nutrition', '@y'),('Sodium', '@s'),('Phosphorus', '@phos'),('Calories', '@x'),('Protein', '@pro'),('Potassium', '@pot'),('Vitamin K', '@k'),('Quantity','@por')])\n",
    "\n",
    "\n",
    "layout = row(\n",
    "    plot,\n",
    "    widgetbox(salt_slider,protein_slider, phos_slider, k_slider, pot_slider),\n",
    ")\n",
    "\n",
    "high_box = BoxAnnotation( left=600, fill_alpha=0.1, fill_color='red')\n",
    "mid_box = BoxAnnotation( left=400, right=600, fill_alpha=0.1, fill_color='yellow')\n",
    "low_box = BoxAnnotation( right=400, fill_alpha=0.1, fill_color='green')\n",
    "\n",
    "plot.add_layout(low_box)\n",
    "plot.add_layout(mid_box)\n",
    "plot.add_layout(high_box)\n",
    "\n",
    "plot.title.text = \"Nutrition Filter\"\n",
    "#p.xgrid[0].grid_line_color=None\n",
    "#p.ygrid[0].grid_line_alpha=0.5\n",
    "plot.xaxis.axis_label = 'Calories'\n",
    "plot.yaxis.axis_label = 'Healthy (Higher is Better)'\n",
    "\n",
    "output_file(\"ffslider.html\", title=\"Food Filter with Sliders\")\n",
    "\n",
    "\n",
    "\n",
    "show(layout)\n",
    "    "
   ]
  },
  {
   "cell_type": "code",
   "execution_count": 8,
   "metadata": {
    "collapsed": false,
    "scrolled": true
   },
   "outputs": [
    {
     "data": {
      "text/plain": [
       "Index(['NDB_No', 'Shrt_Desc', 'Water_g', 'Energ_Kcal', 'Protein_g',\n",
       "       'Lipid_Tot_g', 'Ash_g', 'Carbohydrt_g', 'Fiber_TD_g', 'Sugar_Tot_g',\n",
       "       'Calcium_mg', 'Iron_mg', 'Magnesium_mg', 'Phosphorus_mg',\n",
       "       'Potassium_mg', 'Sodium_mg', 'Zinc_mg', 'Copper_mg', 'Manganese_mg',\n",
       "       'Selenium_pg', 'Vit_C_mg', 'Thiamin_mg', 'Riboflavin_mg', 'Niacin_mg',\n",
       "       'Panto_Acid_mg', 'Vit_B6_mg', 'Folate_Tot_pg', 'Folic_Acid_pg',\n",
       "       'Food_Folate_pg', 'Folate_DFE_pg', 'Choline_Tot_ mg', 'Vit_B12_pg',\n",
       "       'Vit_A_IU', 'Vit_A_RAE', 'Retinol_pg', 'Alpha_Carot_pg',\n",
       "       'Beta_Carot_pg', 'Beta_Crypt_pg', 'Lycopene_pg', 'Lut+Zea_ pg',\n",
       "       'Vit_E_mg', 'Vit_D_pg', 'Vit_D_IU', 'Vit_K_pg', 'FA_Sat_g', 'FA_Mono_g',\n",
       "       'FA_Poly_g', 'Cholestrl_mg', 'GmWt_1', 'GmWt_Desc1', 'GmWt_2',\n",
       "       'GmWt_Desc2', 'Refuse_Pct', 'protein_rda', 'Calories_rda', 'Calories',\n",
       "       'foodtext', 'Totfat_rda', 'Satfat_rda', 'Colesterol_rda',\n",
       "       'Potassium_rda', 'Sodium_rda', 'TotCarbs_rda', 'Dietfiber_rda',\n",
       "       'VitaminA_rda', 'VitaminC_rda', 'Calcium_rda', 'Iron_rda',\n",
       "       'VitaminD_rda', 'VitaminE_rda', 'VitaminK_rda', 'Thiamin_rda',\n",
       "       'Riboflavin_rda', 'Niacin_rda', 'VitaminB6_rda', 'Folate_rda',\n",
       "       'VitaminB12_rda', 'PantothenicAcid_rda', 'Phosphorus_rda',\n",
       "       'Magnesium_rda', 'Zinc_rda', 'Selenium_rda', 'Copper_rda',\n",
       "       'Manganese_rda', 'Molybdenum_rda', 'Quantity', 'Healthy'],\n",
       "      dtype='object')"
      ]
     },
     "execution_count": 8,
     "metadata": {},
     "output_type": "execute_result"
    }
   ],
   "source": [
    "dff.columns"
   ]
  },
  {
   "cell_type": "code",
   "execution_count": null,
   "metadata": {
    "collapsed": false
   },
   "outputs": [],
   "source": [
    "#df[\"Quantity\"] = df[\"GmWt_1\"].map(str) + \" @ \" + df[\"GmWt_Desc1\"]\n",
    "\n",
    "#dffin['Healthy'][dffin['Calories' > Maxgoodcal].map() "
   ]
  },
  {
   "cell_type": "code",
   "execution_count": null,
   "metadata": {
    "collapsed": false
   },
   "outputs": [],
   "source": [
    "df[\"Quantity\"] = df[\"GmWt_1\"].map(str)"
   ]
  },
  {
   "cell_type": "code",
   "execution_count": null,
   "metadata": {
    "collapsed": false
   },
   "outputs": [],
   "source": [
    "df.GmWt_Desc1.head()"
   ]
  },
  {
   "cell_type": "code",
   "execution_count": null,
   "metadata": {
    "collapsed": false
   },
   "outputs": [],
   "source": [
    "df.Quantity.head(25)"
   ]
  },
  {
   "cell_type": "code",
   "execution_count": 21,
   "metadata": {
    "collapsed": false
   },
   "outputs": [
    {
     "data": {
      "text/plain": [
       "0         24.0\n",
       "1         24.0\n",
       "2          3.0\n",
       "3        387.0\n",
       "4        451.0\n",
       "5        188.0\n",
       "6        347.0\n",
       "7        490.0\n",
       "8        455.0\n",
       "9        464.0\n",
       "10       457.0\n",
       "11       159.0\n",
       "12       113.0\n",
       "13       190.0\n",
       "14       150.0\n",
       "15       134.0\n",
       "16       107.0\n",
       "17       536.0\n",
       "18       337.0\n",
       "19       346.0\n",
       "20       444.0\n",
       "21       546.0\n",
       "22       605.0\n",
       "23       393.0\n",
       "24       444.0\n",
       "25       354.0\n",
       "26       412.0\n",
       "27       463.0\n",
       "28       548.0\n",
       "29       468.0\n",
       "         ...  \n",
       "8760     253.0\n",
       "8761      20.0\n",
       "8762       9.0\n",
       "8763     318.0\n",
       "8764     156.0\n",
       "8765     264.0\n",
       "8766       9.0\n",
       "8767     605.0\n",
       "8768     103.0\n",
       "8769     524.0\n",
       "8770      25.0\n",
       "8771       0.0\n",
       "8772       0.0\n",
       "8773     596.0\n",
       "8774     402.0\n",
       "8775    1660.0\n",
       "8776      11.0\n",
       "8777       6.0\n",
       "8778      12.0\n",
       "8779       2.0\n",
       "8780     174.0\n",
       "8781      12.0\n",
       "8782    2368.0\n",
       "8783     260.0\n",
       "8784     147.0\n",
       "8785     254.0\n",
       "8786     426.0\n",
       "8787       8.0\n",
       "8788     272.0\n",
       "8789     180.0\n",
       "Name: Phosphorus_mg, dtype: float64"
      ]
     },
     "execution_count": 21,
     "metadata": {},
     "output_type": "execute_result"
    }
   ],
   "source": [
    "dff['Phosphorus_mg']\n"
   ]
  },
  {
   "cell_type": "code",
   "execution_count": null,
   "metadata": {
    "collapsed": false
   },
   "outputs": [],
   "source": [
    "#print(\"rgb(\"+ str(random.randint(0,255)) + \",\" + str(random.randint(0,255)) + \",\" + str(random.randint(0,255)) + \")\")\n",
    "#df.columns\n",
    "#df.Healthy\n",
    "#df.head().totalcal\n",
    "#for i in df[\"foodgroup\"]:\n",
    "  # df[\"grpnumbers\"] = grphash[df[\"foodgroup\"][i]]\n",
    "    \n",
    "#grpdict\n",
    "#grpdict[\"Burger\"]\n",
    "#grpdict"
   ]
  },
  {
   "cell_type": "code",
   "execution_count": null,
   "metadata": {
    "collapsed": false,
    "scrolled": true
   },
   "outputs": [],
   "source": []
  },
  {
   "cell_type": "code",
   "execution_count": null,
   "metadata": {
    "collapsed": false
   },
   "outputs": [],
   "source": [
    "#len(dffin)\n",
    "\n"
   ]
  },
  {
   "cell_type": "code",
   "execution_count": null,
   "metadata": {
    "collapsed": false
   },
   "outputs": [],
   "source": []
  },
  {
   "cell_type": "code",
   "execution_count": null,
   "metadata": {
    "collapsed": false
   },
   "outputs": [],
   "source": [
    "x.length"
   ]
  },
  {
   "cell_type": "code",
   "execution_count": null,
   "metadata": {
    "collapsed": false
   },
   "outputs": [],
   "source": []
  },
  {
   "cell_type": "code",
   "execution_count": null,
   "metadata": {
    "collapsed": false
   },
   "outputs": [],
   "source": [
    "#df.Shrt_Desc.head()\n",
    "#df['foodgroup'] = df[df['Shrt_Desc'].str.contains(\"BUTTER|MILK\")==TRUE\n",
    "#df.foodgroup.head()\n",
    "\n",
    "#converter = {}\n",
    "#i=1\n",
    "#for item in df[\"foodgroup\"]:\n",
    "#    if item not in converter:\n",
    "        #converter[item] =i\n",
    "#        converter[item]= \"rgb(\"+ str(random.randint(0,255)) + \",\" + str(random.randint(0,255)) + \",\" + str(random.randint(0,255)) + \")\"\n",
    "#        i += 1\n",
    "#df['foodgrpnum'] = [converter[i] for i in df[\"foodgroup\"]]\n",
    "#print(\"rgb(\"+ str(random.randint(0,255)) + \",\" + str(random.randint(0,255)) + \",\" + str(random.randint(0,255)) + \")\")\n",
    "#df.foodgrpnum"
   ]
  },
  {
   "cell_type": "code",
   "execution_count": null,
   "metadata": {
    "collapsed": false
   },
   "outputs": [],
   "source": [
    "#TOOLS=\"resize,crosshair,pan,wheel_zoom,box_zoom,reset,tap,previewsave,box_select,poly_select,lasso_select\"\n",
    "\n",
    "#output_file(\"color_scatter.html\", title=\"color_scatter.py example\")\n",
    "\n",
    "#p = figure(tools=TOOLS)\n",
    "#p.scatter(x, y, radius=radii, fill_color=colors, fill_alpha=0.6, line_color=None)\n",
    "\n",
    "#x=dffin.Healthy.values.tolist()\n",
    "#y = dffin.Calories.values.tolist()\n",
    "\n",
    "#p.annulus(x, y, inner_radius=0, outer_radius=2,color=\"orange\", alpha=0.6)\n",
    "\n",
    "#p.annulus(x=dffin.Calories_rda.tolist(), y=dffin.Healthy, inner_radius=0.1, outer_radius=0.25, color=\"orange\", alpha=0.6)\n",
    "#p.scatter(x,y, radius= 1 , fill_alpha=0.6, line_color=None)\n",
    "#show(p)"
   ]
  },
  {
   "cell_type": "code",
   "execution_count": null,
   "metadata": {
    "collapsed": true
   },
   "outputs": [],
   "source": [
    "# plot({\n",
    "#    'data': [\n",
    "#        Scatter(x=dffin['Calories_rda'],\n",
    "#                y=dffin['Healthy'],\n",
    "#                text=dffin.foodtext ,\n",
    "##                #marker=Marker(size=df['calperserv'], sizemode='area'),   #, sizeref=131868,),\n",
    " #               marker = dict(size= dffin.Healthy ,\n",
    "#                    line= dict(width=1),\n",
    "#                    color= \"rgb(178,16,243)\" ,\n",
    "#                    opacity= 0.8\n",
    "#                   ),\n",
    "#                #name= y[i],\n",
    "#                #mode='markers'\n",
    "##                mode=\"markers\"\n",
    "#               ) \n",
    "#    ],\n",
    "#    'layout': Layout(title='Nutrition and Calorie Count',xaxis=XAxis(title='Calories per Serving'), yaxis=YAxis(title='Nutrition 1-10'))\n",
    "#}, show_link=False)"
   ]
  }
 ],
 "metadata": {
  "kernelspec": {
   "display_name": "Python [default]",
   "language": "python",
   "name": "python3"
  },
  "language_info": {
   "codemirror_mode": {
    "name": "ipython",
    "version": 3
   },
   "file_extension": ".py",
   "mimetype": "text/x-python",
   "name": "python",
   "nbconvert_exporter": "python",
   "pygments_lexer": "ipython3",
   "version": "3.5.2"
  }
 },
 "nbformat": 4,
 "nbformat_minor": 2
}
