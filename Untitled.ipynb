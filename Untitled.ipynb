{
 "cells": [
  {
   "cell_type": "code",
   "execution_count": 43,
   "metadata": {
    "collapsed": false
   },
   "outputs": [
    {
     "name": "stderr",
     "output_type": "stream",
     "text": [
      "INFO:bokeh.core.state:Session output file 'slider.html' already exists, will be overwritten.\n"
     ]
    }
   ],
   "source": [
    "import numpy as np\n",
    "\n",
    "from bokeh.layouts import row, widgetbox\n",
    "from bokeh.models import CustomJS, Slider\n",
    "from bokeh.plotting import figure, output_file, show, ColumnDataSource\n",
    "\n",
    "x = list(i for i in range(0,11))\n",
    "w = list(i**2 for i in range(0,11))\n",
    "z = list(i**3 for i in range(0,11))\n",
    "\n",
    "source = ColumnDataSource(data=dict(x=x, y=y,z=z,w=w))\n",
    "\n",
    "plot = figure(plot_width=400, plot_height=400)\n",
    "\n",
    "plot.line('x', 'y', source=source, line_width=3, line_alpha=0.6)\n",
    "\n",
    "callback = CustomJS(args=dict(source=source), code=\"\"\"\n",
    "    var data = source.data;\n",
    "    var A = amp.value;\n",
    "    var k = freq.value;\n",
    "    var phi = phase.value;\n",
    "    var B = offset.value;\n",
    "    x = data['x']\n",
    "    y = data['y']\n",
    "    w = data['w']\n",
    "    z = data['z']\n",
    "    \n",
    "    for (i = 0; i < x.length; i++) {\n",
    "        y[i] = y[i]+A;\n",
    "    }\n",
    "    source.trigger('change');\n",
    "\"\"\")\n",
    "\n",
    "amp_slider = Slider(start=1, end=10, value=1, step=.1,title=\"Amplitude\", callback=callback)\n",
    "callback.args[\"amp\"] = amp_slider\n",
    "\n",
    "freq_slider = Slider(start=0.1, end=10, value=1, step=.1,title=\"Frequency\", callback=callback)\n",
    "callback.args[\"freq\"] = freq_slider\n",
    "\n",
    "phase_slider = Slider(start=0, end=6.4, value=0, step=.1,title=\"Phase\", callback=callback)\n",
    "callback.args[\"phase\"] = phase_slider\n",
    "\n",
    "offset_slider = Slider(start=-5, end=5, value=0, step=.1,title=\"Offset\", callback=callback)\n",
    "callback.args[\"offset\"] = offset_slider\n",
    "\n",
    "layout = row(\n",
    "    plot,\n",
    "    widgetbox(amp_slider, freq_slider, phase_slider, offset_slider),\n",
    ")\n",
    "\n",
    "output_file(\"slider.html\", title=\"slider.py example\")\n",
    "\n",
    "show(layout)"
   ]
  },
  {
   "cell_type": "code",
   "execution_count": 30,
   "metadata": {
    "collapsed": false
   },
   "outputs": [],
   "source": [
    "x = list(i for i in range(0,11))\n",
    "y = list(i**2 for i in range(0,11))\n",
    "\n"
   ]
  },
  {
   "cell_type": "code",
   "execution_count": 31,
   "metadata": {
    "collapsed": false,
    "scrolled": true
   },
   "outputs": [
    {
     "data": {
      "text/plain": [
       "[0, 1, 2, 3, 4, 5, 6, 7, 8, 9, 10]"
      ]
     },
     "execution_count": 31,
     "metadata": {},
     "output_type": "execute_result"
    }
   ],
   "source": [
    "x"
   ]
  },
  {
   "cell_type": "code",
   "execution_count": 32,
   "metadata": {
    "collapsed": false
   },
   "outputs": [
    {
     "data": {
      "text/plain": [
       "[0, 1, 4, 9, 16, 25, 36, 49, 64, 81, 100]"
      ]
     },
     "execution_count": 32,
     "metadata": {},
     "output_type": "execute_result"
    }
   ],
   "source": [
    "y"
   ]
  },
  {
   "cell_type": "code",
   "execution_count": null,
   "metadata": {
    "collapsed": false
   },
   "outputs": [],
   "source": []
  },
  {
   "cell_type": "code",
   "execution_count": null,
   "metadata": {
    "collapsed": false
   },
   "outputs": [],
   "source": []
  },
  {
   "cell_type": "code",
   "execution_count": null,
   "metadata": {
    "collapsed": false
   },
   "outputs": [],
   "source": []
  },
  {
   "cell_type": "code",
   "execution_count": null,
   "metadata": {
    "collapsed": false
   },
   "outputs": [],
   "source": [
    "\n",
    "\n"
   ]
  },
  {
   "cell_type": "code",
   "execution_count": null,
   "metadata": {
    "collapsed": false
   },
   "outputs": [],
   "source": [
    "\n",
    "\n",
    "    "
   ]
  },
  {
   "cell_type": "code",
   "execution_count": null,
   "metadata": {
    "collapsed": false
   },
   "outputs": [],
   "source": []
  },
  {
   "cell_type": "code",
   "execution_count": null,
   "metadata": {
    "collapsed": false
   },
   "outputs": [],
   "source": []
  },
  {
   "cell_type": "code",
   "execution_count": null,
   "metadata": {
    "collapsed": true
   },
   "outputs": [],
   "source": []
  }
 ],
 "metadata": {
  "kernelspec": {
   "display_name": "Python [default]",
   "language": "python",
   "name": "python3"
  },
  "language_info": {
   "codemirror_mode": {
    "name": "ipython",
    "version": 3
   },
   "file_extension": ".py",
   "mimetype": "text/x-python",
   "name": "python",
   "nbconvert_exporter": "python",
   "pygments_lexer": "ipython3",
   "version": "3.5.2"
  }
 },
 "nbformat": 4,
 "nbformat_minor": 2
}
